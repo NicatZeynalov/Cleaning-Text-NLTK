{
 "cells": [
  {
   "cell_type": "markdown",
   "metadata": {},
   "source": [
    "#  Cleaning Text Manually and with NLTK\n",
    "\n",
    "We are not able to use raw text to fitting a machine learning or deep learning model. We need clean our text first, which means splitting it into words and handling punctuation and case. In fact, there is a whole suite of text preparation methods that we may need to use, and the choice of methods really depends on our natural language processing task. This notebook consists of the following parts:\n",
    "\n",
    "1. How to get started by developing your own very simple text cleaning tools.\n",
    "2. How to take a step up and use the more sophisticated methods in the NLTK library.\n",
    "\n",
    "\n",
    "But, before starting let's select our dataset. In this notebook, I will use text from Jalil Mammadguluzadeh who is notable Azerbaijani writer, great dramatist and democrat man-of-letter. The file includes a piece from writer’s narrative \"Kishmish oyunu\" story. "
   ]
  },
  {
   "cell_type": "markdown",
   "metadata": {},
   "source": [
    "## 1. Manual Tokenization\n",
    "\n",
    "Text cleaning is hard, but the text we have chosen to work with is pretty clean already. We could just write some Python code to clean it up manually, and this is a good exercise for those simple problems that we encounter. Tools like regular expressions and splitting strings can get us a long way."
   ]
  },
  {
   "cell_type": "markdown",
   "metadata": {},
   "source": [
    "### 1.1 Load Data and split by whitespace\n",
    "\n",
    "Let’s load the text data so that we can work with it. The text is small and will load quickly and easily fit into memory. But in some cases, it is not useful and we have to write code to memory map the file. Working with large text files is so easier if you use NLTK. Please, be careful to open the file in text mode with the appropriate encoding."
   ]
  },
  {
   "cell_type": "code",
   "execution_count": 6,
   "metadata": {},
   "outputs": [
    {
     "name": "stdout",
     "output_type": "stream",
     "text": [
      "Qış fəsli idi. Hava şiddətli soyuq idi. Biz iki nəfər seyid, İran əhli, Araz çayından Rusiya torpağına keçib axşam vaxtı özümüzü yetirdik “Zurnalı” kəndinə. Vətəndə günümüz məşəqqət və korluqla keçirdi. Rus məmləkətinə səfər eləməyimizin səbəbi bu idi ki, buranın müsəlman əhalisindən həmişə mehribanlıq görüb əhli-əyalımıza az-çox ruzi əxz edib, vətənimizə geri qayıtmışıq. Allah razı olsun bu vilayətin müsəlmanlarından; ayda bir dəfə bunlara qonaq oluruq.\n",
      "Kəndə yetişib xəbərdar olduq ki, buranın camaatı axşamlar kəndin mötəbər ağası və ağsaqqalı Bala Sultanın tövlə otağına cəm olub uzun qış gecələrini orada söhbət ilə yola verirlər. Biz üz qoyduq həmin Bala Sultanın tövlə otağına.\n",
      "Tövlənin bir tərəfi mal ilə dolu və qaranlıq idi, amma digər tərəfi uca və işıq idi və burada çox cəmiyyət əyləşib söhbətə məşğul idilər. Danışanlar bizi görcək səslərini kəsdilər və cümləsi birdən ayağa durub, bizə kəmali-ehtiram ilə yuxarı soruşmağa başladılar. Biz də onlardan əhvalpürsan olduq. Xülaseyi-kəlam, kəndlilər biz ilə bir mehribanə rəftar elədilər ki, guya aylar ilə bizim müntəzirimiz idilər. Kəndlilərin bu növ rəftarı, bizi nəhayət mərtəbədə dilşad etdi.\n",
      "Əvvələn, biz çox ac idik. Havanın belə soyuq vaxtında nə qədər yol gəlib, yorulub, bir belə isti yer və qonaqdust sahibxanə axtarırdıq ki, bir növ rahat olaq. Saniyən, əhli-beytdən ayrı düşüb və qış mövsümü qürbət vilayətə səfər etməkdən bizim ümdə məqsədimiz bir qədər çörək pulu əlimizə gətirib tezliklə vətənə üz döndərmək idi.\n",
      "“Zurnalı” kəndindəki bu tövr mehribanlıq görüb biz yəqin etdik ki, xəyalımızda tutduğumuz məbləği, həmin gecə tövləyə cəm olan allah bəndələrindən cəm edib dəxi sair yerləri bu soyuqda gəzib dolanmağa möhtac olmarıq və piz əz vəqt evimizə qayıdıb övrət-uşağımızın könlünü şad edərik; necə ki, bizim könlümüz bu gecə burada şad oldu.\n",
      "Başladıq kəndlilər ilə şirin söhbətə. Onlar bizdən İranda vaqe olan əhvalatı soruşmağa başladılar, biz onlardan bəzi əhvalat başladıq soruşmağa. Belə məlum oldu ki, keçən il bu vilayətin pambıq və arpa-buğda ziraəti səlamət imiş.\n",
      "Bizim müqabilimizdə bir irəvanlı əyləşmişdi. Bu şəxs dəri almaq qəsdilə kəndə gəlmiş imiş. Bu minval ilə söhbət iki saat çəkdi və biz necə ki, lazım idi, isinib təam gözləyirdik; çünki biz məclisə varid olub əyləşən kimi sahibxana məzkur Bala Sultan nökərini göndərdi ki, xoruz öldürüb bizdən ötrü sədr düyüsündən plov bişirsinlər.\n",
      "Tövlə qapısı açıldı və bizim yadımıza düşən, əlbəttə, plov oldu. Bir uca boylu oğlan, kəhildəyə-kəhildiyə, - guya ki, uzun yol qaçıb, - məclisə daxil oldu. Kəndililərin birinin yanında oturub başladı haman kəndlinin qulağına bir şey pıçıldamağa. Bir qədər keçəndən sonra, haman oğlan tövlədən kənara çıxdı.\n",
      "Həmin oğlan çıxıb gedəndən sonra, kəndlilər başladılar bir-birilə pıçıldaşmağa. Bala Sultan kəndlilərin bu tövr hərəkətini xoşlamayıb söylədi:\n",
      "-Çox eyibdir sizdən ötrü ki, bizim belə əziz qonaqlarımızın yanında pıçıldaşırsınız. Mən bu tövr biədəbliyi sizdən əsla gözətləmirəm. Hər nə sözünüz varsa, aşkara söyləyin ki, görək nə olubdur. Mən başa düşə bilmirəm, sizin necə bir xəlvət işiniz olar bilər ki, bizdən gizləyirsiniz.\n",
      "Kəndlilərin biri cavab verdi:\n",
      "-Xeyr, Sultan ağa, elə bir xəlvət işimiz yoxdur. Olsa da, elə bir iş deyil ki, sizə dəxli ola.\n",
      "Kəndlinin bu sözləri Sultanın xoşuna gəlmədi və Sultan bir qədər ucadan dedi:\n",
      "-Gedə, sənin ağlın qaçıb, nədir?! Necə mənə dəxli yoxdur?! Sizin nə bir elə işiniz ola bilər ki, mənə dəxli ola bilməsin?\n",
      "Haman kəndli cavab verdi:\n",
      "-Xeyr, sultan ağa, vallah, elə bir iş yoxdur.\n",
      "Kəndlilər genə başladılar bir-birilə pıçıldaşmağa. Bala Sultan bu dəfə dəxi qeyzlənib uca səslə dedi:\n",
      "-Adama sözü bir dəfə deyərlər! Axmaq uşağı axmaq! Bir mənə deyin görüm ki, axı nə barədə pıçıldaşırsınız və nə bir elə iş vaqe olub?\n",
      "Qabaqca cavab verən kəndli söylədi:\n",
      "-Sultan ağa, səndən savayı bizim sahibimiz yoxdur və heç bir sirrimiz yoxdur ki, səndən pünhan olsun: amma doğrusu budur ki, qorxuruq, ehtiyat edirik ki, izn vermiyəsən!\n",
      "Bala Sultan hirs ilə dedi:\n",
      "-Necə ehtiyat edirsiniz?! Necə qorxursunuz ki, izn verməyib?! Nəyə izn istəyirsiniz?\n",
      "Kəndli dedi:\n",
      "-Xeyr, Sultan ağa, başınızı ağrıtmayınız! Elə bir xəlvət işimiz yoxdur. Olsa da, daha nə lazım söyləmək?! Onsuz da biz yəqin bilirik ki, izn verməyəcəksiniz, daxi nə lazım söyləmək!\n",
      "Bala Sultan ağa, o mərtəbədə hirsləndi ki, yerindən bir qədər dikəlib qeyz ilə, daha uca səslə haman kəndliyə dedi:\n",
      "-Allah sizə lənət eləsin! Sizi görüm üzünüz qara olsun! Lənət olsun sizi doğub əkənlərə! Bu qədər sözü uzatmaq olmaz. Axı bir deyiniz görüm sözünüz nədir? Az məni dəli-divanə edin!\n",
      "Kəndlilərin bir ayrısı üzünü Bala Sultana tutub dedi:\n",
      "-Sultan ağa, bizim fikrimiz allahdan gizli deyil, səndən niyə gizlin olsun! Amma doğrusu budur ki, qorxuruq ki, getməyimizə izn verməyəsən.\n",
      "Bala Sultan alçaq səslə soruşdu:\n",
      "-Hara getmək istəyirsiniz?\n",
      "Kəndlilərdən bir cavab gəlmədi. Sultan dübarə soruşdu. Kəndlilərdən bir cavab çıxmadı. Sultan çox uca və qeyzli səslə dübarə soruşdu:\n",
      "-Hara getmək istəyirsiniz?\n",
      "Kəndlilərin birindən bu tövr cavab gəldi:\n",
      "-Sultan ağa, doğrudan-doğrusu biz hamımız qorxuruq; səndən qorxuruq ki, izn vermiyəsən. Amma mən sözün əslini deyəcəyəm. Mən biləm ki, məni öldürəcəksən, - genə sözümü deyəcəyəm. Sözün vazehi budur ki, bu saat və bu dəqiqə poçt yolu ilə bir dəvə karvanı İrəvana 18 yük kişmiş aparır. Amma necə yeməli kişmişdir!.. Bu xəbəri bu saat Kərbəlayı Heydərəli gətirib. Deyir ki, tayın biri bir az dəlinib, kişmişdən bir az yola tökülmüşdü. Kərbəlayı Heyrdərəli oğlunun canına and içir ki, belə kişmiş, Təbrizdən, indiyə kimi bu tərəflərə gəlməyib. Sultan ağa, allah-taala atan Hüseyn Sultanın ruhunu şad eləsin, aman günüdür, rəhmin gəlsin, biz yazığıq.\n",
      "Bala Sultan təəccüblü soruşdu:\n",
      "-Yaxşı, mən nə eləyim? Necə rəhmin gəlsin sizə?\n",
      "Kəndli bir az durub dedi:\n",
      "-Vallah, Sultan ağa, qorxuram deməyə; amma deyəcəyəm. Əgər bizə mərhəmət eləsən və izn versən, bu saat atları minib, silahlanıb, karvanın qabağını kəsərik və kişmişdən beş-on tay gətirib, burada gecələr söhbət edə-edə yeməyə məşğul olarıq; məsələn on tay kişmiş gətirsək cəmimizə bütün qış kifayət edər. Aman günüdür, Sultan ağa, dəxi belə fürsət bir də ələ düşməz! Sultan ağa, şair bə nə yerdə deyib: “Fürsəti verməz fotə aqil, bəlkə olmaya nadan!” Aman günüdür. Sultan ağa, bizə rəhmin gəlsin!\n",
      "Bala Sultan çox təəccüblü dedi:\n",
      "-Olan, nə danışırsınız! Məgər dəlisiniz! Kişmiş taylarını çöldə tökməyiblər ki, siz gedib yığışdırıb gətirərsiniz! Ola bilməz ki, karvanın yanında gözətçi və çarvadar olmasın. Qoyarlarmı ki, xalqın gözünün qabağında özgənin malını gətirəsiniz?!\n",
      "Kəndlilərin biri Sultana belə cavab verdi:\n",
      "-Nə deyib qoymazlar, Sultan ağa?! Çarvadarın hünəri nədir qoymasın?! Və bir də ki, biz iki adam, üç adam, əli boş və piyada getməyəcəyik. Yəqin ki, karvanın yanında olacaq iki, ya üç nəfər silahsız və piyada çarvadar; amma biz olacağıq iyirmi-iyirmi beş nəfər atlı və silahlı. Bizim qabağımızda iki-üç çarıqlı dəvəçi nə danışa biləcək? Heç göz açmağa fürsət vermərik. Sultan ağa, bizi o qədər də yava və aciz hesab etmə.\n",
      "-A gədə, allahı sevirsiniz bu fikirdən düşün! Olan, vallah, sizdən qan qoxusu gəlir. Balam, mən saqqalımın bu ağ vaxtında necə sizə izn verim ki, gedib quldurluq edəsiniz! Qardaşlarım, vallah, bu işlərin faydası yoxdur, gəlin bu daşı ətəyinizdən tökün! Xatadır, cahılsız, gedərsiniz, bir söz deyərsiniz, bir söz onlar deyər, sözünüz çəp gələr, gözü qanlısınız, əlinizdən xata çıxar. Ondan sonra gəl polisəyə cavab ver!\n",
      "Kəndlilərdən biri:\n",
      "-Sultan ağa, haqq fərmayiş edirsiniz, belə işdə xata da ola bilər olsun, qan da tökülə bilər; çünki çarıqlı dəvəçi bizim kimi igidlərin qabağında ağzını açıb danışsa, lazımdır ki, onun ağzını məhz güllə ilə yummaq. Amma siz nahaq yerə bolusadan ehtiyat edirsiniz. Biz elə yerdə yatmarıq ki, altımıza su çıxsın. Əgər əlimizdən xata da çıxsa, biz elə eləmənik ki, bir yad adam bizim işimizdən xəbərdar olsun. Sultan ağa, gərək sənə yaxşı məlum ola ki, belə işlər bizim peşəmizdir. Daha biz xam deyilik. Bizim bu cür işlərə getməyimiz əvvəlinci dəfə deyil ki, bolusa bizim işimizdən xəbərdar olsun və axırda bizə əziyyət eləsin. Sənin başına and olsun, Sultan ağa, bir nəfəs də bizim işimizi duymaz.\n",
      "Bir qədər fikir edəndən sonra Bala Sultan söylədi:\n",
      "-Orasmı doğru deyirsiniz: mən bilirəm ki, xam deyilsiniz; amma vallah doğrusu, genə qorxuram. Yer qulaqlıdır, dünya-aləm şeytan ilə doludur. Uşaqlar, ehtiyatlı olun!\n",
      "Kəndlilərin cavanlarından on-on beşi sevincək durdular ayağa və “allah sənə ömür versin, Sultan ağa!” – deyə-deyə eşiyə çıxdılar.\n",
      "Kəndlilərin bir neçəsi çıxdı eşiyə və bir neçəsi oturduğumuz tövlədə olan atlardan bir neçəsini yəhərləyib çəkdilər kənara. Bir qədər keçəndən sonra eşiyə çıxan kəndlilər və bunlardan başqa dəxi bir neçəsi gəldilər otağa; cümləsi əsbab və əsləhəli: kiminin belində qəmə, kiminin əlində tüfəng – hamısı qıvraq geyinmiş...\n",
      "İyirmi-iyirmi beş nəfər igid hərəsi bir at eşiyə çəkib, çaparaq mindilər və qayıb oldular.\n",
      "Biz hər ikimiz çox dilxor olduq. Əvvələn, bizə yəqin oldu ki, biz xam xəyal eləyirmiş idik; çünki dəxi gördük ki, bu tövr müsəlmanlardan heç bir ianə və ehsan gözləmək olmaz. İkinci budur ki, kəndlilərin quldurluğa getməklərindən biz başladıq iztiraba düşməyə: kim nə bilsin, bunların bu tövr rəftarından bizə nə qədər dərdi-sər və bədbəxtlik gələ bilər.\n",
      "Bu qism xəyalata məşğul idim, Bala Sultan mənim təğyiri-əhvalatımı duyub üzünü tutdu mənə və dedi:\n",
      "-Ağalar, vallahi, billahi zəmanə xarab olub! Böyüklərin, ağsaqqalların sözlərini çürük qəpiyə alan yoxdur. Ha deyirsən: “Balam, oturun yerinizdə, bu cür işlərdən qan qoxusu gəlir, belə işlərə iqdam edən – həmişə allah yanında günahkar və bəndənin yanında xəcalətli olur”, amma nə fayda, sən deyirsən, - sən eşidirsən.\n",
      "Yoldaşım, Bala Sultanın cavabında dedi:\n",
      "-Sultan ağa, cənabınız nəhaq yerə zəmanədən giley edirsiniz. Mən elə başa düşürəm ki, əgər sizdən izn olmasaydı, cahillər kişmiş dalınca getməzdilər.\n",
      "Bizim ikimizdən və Bala Sultandan savayı tövlə otağında bir qoca kişi dəxi var idi. Yoldaşım axırıncı sözlərini deyib qurtarandan sonra, həmin qoca kişi bir öskürüb çubuğunu yerə boşaldıb və heç birimizin üzünə baxmayıb, başını bulaya-bulaya guya ki, öz-özünə dedi:\n",
      "-Xeyr, ağalar, belə deyil! Bizim cahıllar, siz görən cahıllardan deyirlər. Allah bunlara lənət eləsin. Bunlar kimi qudurğan və bihəya millət tamam yer üzündə nişan verən yoxdu. Bunlar bildiklərini heç atalarına da verməzlər. Siz nahaq yerə elə xəyal eləyirsiniz ki, Sultan ağanın izni olmasaydı, onlar quldurluğa getməzdilər. Sultan ağa izn verməsəydi də gedəcəkdilər. Allah onlara lənət eləsin, onlar sözə baxan deyillər.\n",
      "Bu heyndə uzaqdan bir güllə səsi gəldi. Biz hər ikimiz dik atıldıq və çox qorxduq. Bala Sultan da zahirən narahat olub, başını yuxarı qaldırıb başladı qulaq verməyə. Amma qoca kişi əhvalına təğyir verməyib, çubuğunu tütün ilə doldurub başladı yandırmağa. Mən elə güman elədim ki, onun qulağı eşitməz; amma mən səhv edirmişəm. Qoca kişi başını bulaya-bulaya və yerə baxa-baxa guya öz-özünə dedi:\n",
      "-Allah görüm sizi yox eləsin, toxumunuz yer üzündən tükənsin! Bir tikə qurğuşun ilə görəsən hansı biçarənin balalarını ağlar qoydular?!\n",
      "Bir qədər keçəndən sonra, iki tüfəng açıldı. Mən qorxudan başladım titrəməyə. Yoldaşım başını mənə tərəf əyib alçaq səslə qorxa-qorxa soruşdu:\n",
      "-Seyid Hüseyn, başımıza nə çarə qılaq? Bu nə iş idi biz düşdük?\n",
      "Mən mat-mat o yazığın üzünə baxıb bilmədim nə cavab verim.\n",
      "Bir az da keçəndən sonra, uzaqda at tappıltısının səsi gəldi. Bir qədər də keçdi, genə uzaqdan güllə atıldı. Ondan sonra beş-altı kərə bir-birinin dalınca tüfəng səsi gəldi. Bir azdan sonra at tappıltısı şiddət edib gəldikcə yavıqlaşdı. Tövlənin qapısı açıldı və cahıllar kəhildəyə-kəhildəyə atları tövləyə çəkib, kişmiş taylarını sürüyüb saldılar tövlənin bucağına. Bala Sultan ayağa durub üzünü tutdu kəndlilərə:\n",
      "-Afərin, afərin, balalarım! Allah birinizi min eləsin! Sizsiz mənim bir günüm olmasın!\n",
      "Kəndlilərdən bir cavab çıxmadı. Bala Sultan cahılların birinə üzünü tutub dedi:\n",
      "-Cəfərəli, niyə dinmirsən? Fikirli adama oxşayırsan?! Yoxsa əlinizdən bir xəta çıxıb?\n",
      "Cəfərdən bir cavab gəlmədi. Bu heyndə genə at tappıltısı gəldi. Tövlənin qapısı açıldı və bir neçə cahıl başladılar tövləyə bir şey sürüməyə. Biz elə bildik ki, bu da kişmiş tayıdır; amma səhv edirdik. Cahıllar içəri sürüdükləri, qana bulanmış adam ölüsü idi.\n",
      "Bala Sultan irəli yeriyib və ölünün paltarına və sifətinə diqqət ilə baxandan sonra, pərişanhal olub dedi:\n",
      "-Allah sizin evinizi yıxsın! Bu fəqir dəvəçinin günahı nə idi ki, bunu öldürüb, əhli-əyalını gözü yolda qoydunuz?!\n",
      "Heç kimdən bir səs çıxmadı. Bala Sultan ölünü görən kimi hər iki əlini dizlərinə vura-vura dedi:\n",
      "-Vay, vay, vay! Allah sizə lənət eləsin! Durmayın, durmayın! Götürün beli, qazmanı, köməkləşin, tez tövlənin bucağında bir dərin quyu qazın, cəmdəyi (nəşi) salaq quyuya, üstünü peyin və axbun ilə örtək. Tez-tez! Daha durmayın! Durmaq vaxtı deyil! Vay, vay!\n",
      "Cahıllar Bala Sultana bir cavab verməyib durduqları yerdən hərəkət eləməyib başları aşağı, baxırdılar kimi ölüyə, kimi yerə.\n",
      "Bala Sultan genə təkid ilə dedi:\n",
      "-Niyə durursunuz? Nə fikir eləyirsiniz? Dəxi indi fikir eləmək fayda verməz. İndi durmaq vaxtı deyil! Gedin tez quyu qazın!\n",
      "Cahıllar bir cavab verməyib, durduqları yerdən hərəkət eləməlidilər. Bala Sultan onların üstə hirs ilə çığırdı:\n",
      "-Məgər qulaqlarınız kardır? Adama neçə dəfə sözü deyərlər? Mən əvvəl sizə dedim ki, bəd əməlin dalınca getməyin; xatadır, adam başağrısı çəkər. Sözümə qulaq verməyib getdiniz və üç-dörd tay kişmişdən ötrü adam öldürdünüz. İndi bunların hamısı keçib, barı öz zibilinizi özünüz təmizləyin!\n",
      "Cahılların biri, hər iki əlini qəməsinin dəstəsinin üstə qoyub, döşünü bir qədər dalı çəkib, gözlərini axıda-axıda üzünü Sultana tutub dedi:\n",
      "-Sultan ağa, ölünü tövlənin bucağında gizlətmək çox asan işdir: götürərəm qazmanı, bir dəqiqənin içində bir dərin quyu qazaram, cəmdəyi xakriz edərəm. Burda bir çətin iş yoxdur. Amma bununla canımız qurtarmayacaq. Necə dərin quyuda ölünü gizlətsək, genə axırda gəlib çıxardacaqlar və bizim hamımızı katrojniyə göndərəcəklər.\n",
      "Bu kəndli sözünü qurtaran kimi yoldaşları bir səslə bu sözü təsdiq eləyib dedilər:\n",
      "-Doğru deyir, Kərbəlayı Məhəmməd doğru deyir. Bizim hamımızı Sibirə göndərəcəklər.\n",
      "Bala Sultan təəccüb ilə soruşdu:\n",
      "-Olan, yoxsa sizi görən olub?\n",
      "Kərbəlayı Məhəmməd cavab verdi:\n",
      "-Sənin başına and olsun, Sultan ağa, bizi bir əhəd də görməyib. Karvanın yanında məhz üç nəfər dəvəçi idi. İkisini karvanın yanında öldürdük. Bu yazıq da bizim dalımızca qaça-qaça gəldi kəndin yavığına ki, bəlkə kişmiş taylarını bizdən saldıra; bunu da öldürdük və bədənini gətirdik buraya ki, bizim kəndin kənarında nişanə qalmasın.\n",
      "Bala Sultan genə dedi:\n",
      "-Dəxi nədən qorxursunuz? Sizi görüb tanıyan olmayıb, bəs dəxi nədən qorxursunuz?\n",
      "Kərbəlayı Məhəmməd:\n",
      "-Sultan ağa, biz ömrümüzdə heç bir tövr kəmehtiyat iş tutmamışdıq. Yəqin elə sabah bizi qol-qola bağlayıb aparacaqlar navaxta!\n",
      "Cahıllar səs-səsə verib dedilər:\n",
      "-Elədir!.. elədir!.. doğrudur!.. Yəqin aparacaqlar!\n",
      "Bala Sultan təəccüblü, uca səslə soruşdu:\n",
      "-Qardaş, nə deyib aparacaqlar, axı? Kim gedib sizi şeytanlayacaq? Bizim içimizdə ki, bir yad adam yoxdur.\n",
      "Kərbəlayı Məhəmməd başını bulaya-bulaya Sultana cavab verdi:\n",
      "-Sultan ağa, məni bağışla, amma heç özün də bilmirsən nə danışırsan! Vallah, Sultan ağa, evimiz yıxılıb. Dəxi bu işlərin heç çarəsi yoxdur!\n",
      "Bizə dəxi gün kimi aşkar oldu ki, kəndlilər məhz bizim ikimizdən ehtiyat edirlər ki, buradan çıxıb gedəndən sonra, bunların quldurluğu barəsində bir söz danışarıq, ya divana xəbər verərik. Yoldaşım cahılları bu barədə sakit eləmək qəsdilə bunlara üzünü tutub həqiranə söylədi:\n",
      "-Ay qardaşlar, şükr edirəm pərvərdigar ki, burada bu saat hazır olan adamların cəmisi müsəlmandır, xarici millət yoxdur. Siz də müsəlmansınız, biz də müsəlmanıq və övladi-peyğəmbərik. Bizim əlimizdə bundan savayı dəxi bir çarə yoxdur, məgər ki, cəddimizə and içib, onun kitabi-məcidini öpüb, sizə səmimi qəlbdən söz verək ki, nə qədər ömrümüz var, - siz bu gün burada elədiyiniz işlərin barəsində bir yanda və bir kəsə ağzımızı açıb danışmayaq və əgər bu xüsusda vədə-xilaf olsaq, allaha-taala bizim hər ikimizin həftadi-həftinə iki min lənət eləyə və hər iki dünyada biz üzüqaralar cərgəsində olaq.\n",
      "Yoldaşım sözünü qurtaran kimi, Bala Sultan başladı:\n",
      "-Xeyr, xeyr ağalar! Nahaq yerə siz bədgüman olursunuz. Heç narahat olmuyun və heç özgə şeylər fikirə gətirməyin. Biz onu yaxşı bilirik ki, siz bizə xəyanət edən adamlardan deyilsiniz.\n",
      "Bala Sultan sözünü qurtardı və cahıllar bir söz demədi. Bir qədər keçəndən sonra, kəndlilərin biri üzünü bizə səmt tutub dedi:\n",
      "-Ağalar, biz sizi yaxşı tanıyırıq. Sizin əsl kökünüzə bələdik. Seyid olmayın, istəyirsiniz nə olursunuz olun, - insana etibar yoxdur. Üç il bundan irəli iki nəfər seyid padşahlıq yolunda bir ermənini öldürüb, cibindən iki manat yarımını çıxartmışdılar. Naxçıvanda bu iki yoldaşın sözü çəp gəlir və birisi gedib nəçəlnikə, erməni öldürməklərini xəbər verir. Biz sizin kimi seyidlərə etibar eləyib özümüzü badi-fənaya verə bilmərik, yazığıq. Bizi Sibirə aparandan sonra, siz ki, gəlib bizim uşaqlarımıza çörək qazanıb sahiblik eləməyəcəksiniz?\n",
      "Haman kəndlinin sözünə qüvvət verib, cahıllar başladılar qaim səslə deməyə:\n",
      "-Xeyr, xeyr! Heç vaxt etibar eləmək olmaz! Heç vaxt inanmanıq.\n",
      "Bala Sultan genə bizə köməyə gəldi və kəndlilərə başladı deməyə:\n",
      "-A balam, axmaq-axmaq danışmayın, bu kişilər siz dediyiniz adamlardan deyillər, niyə bu qədər boş-boş danışırsınız?\n",
      "Cahıllar səs-səsə verib çığırışmağa başladılar:\n",
      "-Vallah, Sultan ağa, heç ola bilməz! Dünyada heç kəsə etibar yoxdur, İranın naməlum seyidləri hara, biz hara! Sultan ağa, heç ola bilməz!\n",
      "Biz başladıq yalvarmağa:\n",
      "-Ay allah bəndələri! Biz xata elədik ki, gəlib bura çıxdıq?!! Allahı sevirsəniz bizə izn verin, qoyaq gedək işimizə! Cəddimiz peyğəmbərə and olsun, bir yanda bir söz ağzımızdan qaçırmanıq.\n",
      "Kəndlilər daha ucadan başladılar çığırmağa:\n",
      "-Ola bilməz!... Ola bilməz!... Yerinizdən tərpəşməyiniz, yoxsa güllələrik!\n",
      "Daha sonra nə oldu, nə olmadı, - yadımda deyil. Orası məhz yadımdadır ki, cahıllardan bir neçəsi bir-birinin qulağına bir şey pıçıldaya-pıçıldaya yavaş-yavaş başladılar bizə səmt yavıqlaşmağa, yoldaşım başını pəncərənin içinə soxub, başilə pəncərənin şüşəni para-para edib özünü bir növ həyətə saldı. Onun dalınca mən özümü haman pəncərədən saldım həyətə və düşdüm yoldaşımın üstə. Kəndlilər çığırdılar:\n",
      "-Qoymayın o namərdləri getsinlər!\n",
      "Mən düşən kimi, başladım qaçmağa, amma yazıq yoldaşım yerindən hərəkət eləyib bir-iki qədəm qoyub, genə yıxıldı yerə; sonra durdu ayağa və axsaya-axsaya mənim əlimdən yapışdı və biz ənvai-müsibət ilə kəndin içindən, itlərdən özümüzü qoruya-qoruya, çıxdıq kəndin kənarına.\n",
      "Axırı bir tövr özümüzü sürüyüb yarıcan saldıq erməni kəndinə və bir tövlədə yatıb sübh tezdən ac-acına yola düşüb, axşam vaxtı gəlib yetişdik “Nurcaman” kəndinə. Çox yavaş yeriyirdik; çünki yoldaşımın sağ ayağı bərk incimişdi və yazığa nəhayət əziyyət verirdi. O mərtəbədə qorxmuşduq ki, vətənə qayıtmaqdan savayı qeyri bir şey yadımıza düşmürdü... İki gündən sonra Arazı keçib İran torpağına yetişdik və əliboş, kor-peşiman çatdıq kəndimizə və qorxudan başımıza gələn macəranı heç kəsə izhar eləmədik.\n",
      "Əhvalatdan bir il sonra, genə yolumuz Rusiya torpağına düşdü. Qəsdimiz İrəvana gəlmək idi. “Zurnalı” kəndinin yanından keçib gecə yatdıq “Ulağlı” kəndində. Bura ilə “Zurnalı”nın arası ağacyarımdır. “Zurnalı” kəndindən, Bala Sultandan və kəndin qeyri əhvalatından söhbət saldıq ki, bəlkə keçən il kişmiş karvanının qarət olmağından, dəvəçilərin ölməyindən bir xəbər bilək. Amma artıq təəccüb elədik ki, heç bir kəsin yadına bir belə əhvalat gəlmirdi. Sonra kəndlilərdən biri bizdən soruşdu:\n",
      "-Ağalar, yoxsa “zurnalılar” siz ilə kişmiş oyunu oynayıblar?..\n",
      "Məhz burada biz başa düşdük ki, “zurnalılar” nə kişmiş qarət ediblər və nə dəvəçi öldürüblər: bunlar ancaq bizim ilə “kişmiş oyunu” oynayıblar. Və məhz indi başa düşdük ki, “zurnalılar” bizim başımıza “kişmiş oyununu” gətirməkdən məqsədləri ancaq bizi kənddən qaçırtmaq idi; çünki biz akoşkadan özümüzü yerə salıb qaçan zaman onlar bizi güllə ilə də vura bilərdilər, tutub öldürə də bilərdilər...\n"
     ]
    }
   ],
   "source": [
    "#load text\n",
    "\n",
    "filename = 'kishmish.txt'\n",
    "file = open(filename, 'rt', encoding = 'utf-8')\n",
    "text = file.read()\n",
    "print(text)"
   ]
  },
  {
   "cell_type": "markdown",
   "metadata": {},
   "source": [
    "Clean text often means a list of words or tokens that we can work with in our machine learning\n",
    "models. This means converting the raw text into a list of words and saving it again. A very\n",
    "simple way to do this would be to split the document by white space, including “ ” (space), new\n",
    "lines, tabs and more. We can do this in Python with the split() function on the loaded string."
   ]
  },
  {
   "cell_type": "code",
   "execution_count": 7,
   "metadata": {},
   "outputs": [
    {
     "name": "stdout",
     "output_type": "stream",
     "text": [
      "['Qış', 'fəsli', 'idi.', 'Hava', 'şiddətli', 'soyuq', 'idi.', 'Biz', 'iki', 'nəfər', 'seyid,', 'İran', 'əhli,', 'Araz', 'çayından', 'Rusiya', 'torpağına', 'keçib', 'axşam', 'vaxtı', 'özümüzü', 'yetirdik', '“Zurnalı”', 'kəndinə.', 'Vətəndə', 'günümüz', 'məşəqqət', 'və', 'korluqla', 'keçirdi.', 'Rus', 'məmləkətinə', 'səfər', 'eləməyimizin', 'səbəbi', 'bu', 'idi', 'ki,', 'buranın', 'müsəlman', 'əhalisindən', 'həmişə', 'mehribanlıq', 'görüb', 'əhli-əyalımıza', 'az-çox', 'ruzi', 'əxz', 'edib,', 'vətənimizə', 'geri', 'qayıtmışıq.', 'Allah', 'razı', 'olsun', 'bu', 'vilayətin', 'müsəlmanlarından;', 'ayda', 'bir', 'dəfə', 'bunlara', 'qonaq', 'oluruq.', 'Kəndə', 'yetişib', 'xəbərdar', 'olduq', 'ki,', 'buranın', 'camaatı', 'axşamlar', 'kəndin', 'mötəbər', 'ağası', 'və', 'ağsaqqalı', 'Bala', 'Sultanın', 'tövlə', 'otağına', 'cəm', 'olub', 'uzun', 'qış', 'gecələrini', 'orada', 'söhbət', 'ilə', 'yola', 'verirlər.', 'Biz', 'üz', 'qoyduq', 'həmin', 'Bala', 'Sultanın', 'tövlə', 'otağına.', 'Tövlənin']\n"
     ]
    }
   ],
   "source": [
    "# split into words by white space\n",
    "words = text.split()\n",
    "print(words[:100])\n"
   ]
  },
  {
   "cell_type": "markdown",
   "metadata": {},
   "source": [
    "### 1.2 Select Words\n",
    "\n",
    "In the result above, we able to see some words like 'idi.', 'verirlər.' wihch means that end of sentence punctuation is kept with the last word. For thos reason, now we will use regex model (re) and split the document into words by\n",
    "selecting for strings of alphanumeric characters (a-z, A-Z, 0-9 and ‘ ’)."
   ]
  },
  {
   "cell_type": "code",
   "execution_count": 8,
   "metadata": {},
   "outputs": [
    {
     "name": "stdout",
     "output_type": "stream",
     "text": [
      "['Qış', 'fəsli', 'idi', 'Hava', 'şiddətli', 'soyuq', 'idi', 'Biz', 'iki', 'nəfər', 'seyid', 'İran', 'əhli', 'Araz', 'çayından', 'Rusiya', 'torpağına', 'keçib', 'axşam', 'vaxtı', 'özümüzü', 'yetirdik', 'Zurnalı', 'kəndinə', 'Vətəndə', 'günümüz', 'məşəqqət', 'və', 'korluqla', 'keçirdi', 'Rus', 'məmləkətinə', 'səfər', 'eləməyimizin', 'səbəbi', 'bu', 'idi', 'ki', 'buranın', 'müsəlman', 'əhalisindən', 'həmişə', 'mehribanlıq', 'görüb', 'əhli', 'əyalımıza', 'az', 'çox', 'ruzi', 'əxz', 'edib', 'vətənimizə', 'geri', 'qayıtmışıq', 'Allah', 'razı', 'olsun', 'bu', 'vilayətin', 'müsəlmanlarından', 'ayda', 'bir', 'dəfə', 'bunlara', 'qonaq', 'oluruq', 'Kəndə', 'yetişib', 'xəbərdar', 'olduq', 'ki', 'buranın', 'camaatı', 'axşamlar', 'kəndin', 'mötəbər', 'ağası', 'və', 'ağsaqqalı', 'Bala', 'Sultanın', 'tövlə', 'otağına', 'cəm', 'olub', 'uzun', 'qış', 'gecələrini', 'orada', 'söhbət', 'ilə', 'yola', 'verirlər', 'Biz', 'üz', 'qoyduq', 'həmin', 'Bala', 'Sultanın', 'tövlə']\n"
     ]
    }
   ],
   "source": [
    "import re\n",
    "# split based on words only\n",
    "words = re.split(r'\\W+', text)\n",
    "print(words[:100])"
   ]
  },
  {
   "cell_type": "markdown",
   "metadata": {},
   "source": [
    "### 1.3 Normalizing Case\n",
    "\n",
    "It is common to convert all words to one case. This means that the vocabulary will shrink in\n",
    "size, but some distinctions are lost. We can convert all words to lowercase by calling the lower() function on each\n",
    "word."
   ]
  },
  {
   "cell_type": "code",
   "execution_count": 9,
   "metadata": {},
   "outputs": [
    {
     "name": "stdout",
     "output_type": "stream",
     "text": [
      "['qış', 'fəsli', 'idi', 'hava', 'şiddətli', 'soyuq', 'idi', 'biz', 'iki', 'nəfər', 'seyid', 'i̇ran', 'əhli', 'araz', 'çayından', 'rusiya', 'torpağına', 'keçib', 'axşam', 'vaxtı', 'özümüzü', 'yetirdik', 'zurnalı', 'kəndinə', 'vətəndə', 'günümüz', 'məşəqqət', 'və', 'korluqla', 'keçirdi', 'rus', 'məmləkətinə', 'səfər', 'eləməyimizin', 'səbəbi', 'bu', 'idi', 'ki', 'buranın', 'müsəlman', 'əhalisindən', 'həmişə', 'mehribanlıq', 'görüb', 'əhli', 'əyalımıza', 'az', 'çox', 'ruzi', 'əxz', 'edib', 'vətənimizə', 'geri', 'qayıtmışıq', 'allah', 'razı', 'olsun', 'bu', 'vilayətin', 'müsəlmanlarından', 'ayda', 'bir', 'dəfə', 'bunlara', 'qonaq', 'oluruq', 'kəndə', 'yetişib', 'xəbərdar', 'olduq', 'ki', 'buranın', 'camaatı', 'axşamlar', 'kəndin', 'mötəbər', 'ağası', 'və', 'ağsaqqalı', 'bala', 'sultanın', 'tövlə', 'otağına', 'cəm', 'olub', 'uzun', 'qış', 'gecələrini', 'orada', 'söhbət', 'ilə', 'yola', 'verirlər', 'biz', 'üz', 'qoyduq', 'həmin', 'bala', 'sultanın', 'tövlə']\n"
     ]
    }
   ],
   "source": [
    "words = [word.lower() for word in words]\n",
    "print(words[:100])"
   ]
  },
  {
   "cell_type": "markdown",
   "metadata": {},
   "source": [
    "Cleaning text is really hard, problem specific, and full of tradeoffs. Remember, simple is better.\n",
    "Simpler text data, simpler models, smaller vocabularies. You can always make things more\n",
    "complex later to see if it results in better model skill. Next, we’ll look at some of the tools in\n",
    "the NLTK library that offer more than simple string splitting.\n"
   ]
  },
  {
   "cell_type": "markdown",
   "metadata": {},
   "source": [
    "## 2. Tokenization and Cleaning with NLTK"
   ]
  },
  {
   "cell_type": "markdown",
   "metadata": {},
   "source": [
    "The Natural Language Toolkit, or NLTK for short, is a Python library written for working and\n",
    "modeling text. It provides good tools for loading and cleaning text that we can use to get our\n",
    "data ready for working with machine learning and deep learning algorithms."
   ]
  },
  {
   "cell_type": "code",
   "execution_count": 11,
   "metadata": {},
   "outputs": [
    {
     "name": "stdout",
     "output_type": "stream",
     "text": [
      "showing info https://raw.githubusercontent.com/nltk/nltk_data/gh-pages/index.xml\n"
     ]
    },
    {
     "data": {
      "text/plain": [
       "True"
      ]
     },
     "execution_count": 11,
     "metadata": {},
     "output_type": "execute_result"
    }
   ],
   "source": [
    "import nltk\n",
    "nltk.download()"
   ]
  },
  {
   "cell_type": "markdown",
   "metadata": {},
   "source": [
    "### 2.1  Split into Sentences\n",
    "\n",
    "A good useful first step is to split the text into sentences. Some modeling tasks prefer input\n",
    "to be in the form of paragraphs or sentences, such as Word2Vec. You could first split your\n",
    "text into sentences, split each sentence into words, then save each sentence to file, one per line.\n",
    "NLTK provides the sent tokenize() function to split text into sentences."
   ]
  },
  {
   "cell_type": "code",
   "execution_count": 14,
   "metadata": {},
   "outputs": [
    {
     "name": "stdout",
     "output_type": "stream",
     "text": [
      "['Qış fəsli idi.', 'Hava şiddətli soyuq idi.', 'Biz iki nəfər seyid, İran əhli, Araz çayından Rusiya torpağına keçib axşam vaxtı özümüzü yetirdik “Zurnalı” kəndinə.']\n"
     ]
    }
   ],
   "source": [
    "from nltk import sent_tokenize\n",
    "# load again data\n",
    "\n",
    "filename = 'kishmish.txt'\n",
    "file = open(filename, 'rt', encoding = 'utf-8')\n",
    "text = file.read()\n",
    "\n",
    "# split into sentences\n",
    "sentences = sent_tokenize(text)\n",
    "print(sentences[:3])\n"
   ]
  },
  {
   "cell_type": "markdown",
   "metadata": {},
   "source": [
    "### 2.2  Split into Words\n",
    "\n",
    "NLTK provides a function called word tokenize() for splitting strings into tokens (nominally\n",
    "words). It splits tokens based on white space and punctuation. For example, commas and\n",
    "periods are taken as separate tokens."
   ]
  },
  {
   "cell_type": "code",
   "execution_count": 16,
   "metadata": {},
   "outputs": [
    {
     "name": "stdout",
     "output_type": "stream",
     "text": [
      "['Qış', 'fəsli', 'idi', '.', 'Hava', 'şiddətli', 'soyuq', 'idi', '.', 'Biz', 'iki', 'nəfər', 'seyid', ',', 'İran', 'əhli', ',', 'Araz', 'çayından', 'Rusiya', 'torpağına', 'keçib', 'axşam', 'vaxtı', 'özümüzü', 'yetirdik', '“', 'Zurnalı', '”', 'kəndinə', '.', 'Vətəndə', 'günümüz', 'məşəqqət', 'və', 'korluqla', 'keçirdi', '.', 'Rus', 'məmləkətinə', 'səfər', 'eləməyimizin', 'səbəbi', 'bu', 'idi', 'ki', ',', 'buranın', 'müsəlman', 'əhalisindən', 'həmişə', 'mehribanlıq', 'görüb', 'əhli-əyalımıza', 'az-çox', 'ruzi', 'əxz', 'edib', ',', 'vətənimizə', 'geri', 'qayıtmışıq', '.', 'Allah', 'razı', 'olsun', 'bu', 'vilayətin', 'müsəlmanlarından', ';', 'ayda', 'bir', 'dəfə', 'bunlara', 'qonaq', 'oluruq', '.', 'Kəndə', 'yetişib', 'xəbərdar', 'olduq', 'ki', ',', 'buranın', 'camaatı', 'axşamlar', 'kəndin', 'mötəbər', 'ağası', 'və', 'ağsaqqalı', 'Bala', 'Sultanın', 'tövlə', 'otağına', 'cəm', 'olub', 'uzun', 'qış', 'gecələrini']\n"
     ]
    }
   ],
   "source": [
    "from nltk.tokenize import word_tokenize\n",
    "\n",
    "# split into words\n",
    "tokens = word_tokenize(text)\n",
    "print(tokens[:100])"
   ]
  },
  {
   "cell_type": "markdown",
   "metadata": {},
   "source": [
    "Running the code, we can see that punctuation are now tokens that we could then decide to\n",
    "specifically filter out. We have to filter out punctation.\n"
   ]
  },
  {
   "cell_type": "markdown",
   "metadata": {},
   "source": [
    "### 2.3 Filter Out Punctuation\n",
    "\n",
    "We can filter out all tokens that we are not interested in, such as all standalone punctuation. This\n",
    "can be done by iterating over all tokens and only keeping those tokens that are all alphabetic.\n",
    "Python has the function isalpha() that can be used."
   ]
  },
  {
   "cell_type": "code",
   "execution_count": 17,
   "metadata": {},
   "outputs": [
    {
     "name": "stdout",
     "output_type": "stream",
     "text": [
      "['Qış', 'fəsli', 'idi', 'Hava', 'şiddətli', 'soyuq', 'idi', 'Biz', 'iki', 'nəfər', 'seyid', 'İran', 'əhli', 'Araz', 'çayından', 'Rusiya', 'torpağına', 'keçib', 'axşam', 'vaxtı', 'özümüzü', 'yetirdik', 'Zurnalı', 'kəndinə', 'Vətəndə', 'günümüz', 'məşəqqət', 'və', 'korluqla', 'keçirdi', 'Rus', 'məmləkətinə', 'səfər', 'eləməyimizin', 'səbəbi', 'bu', 'idi', 'ki', 'buranın', 'müsəlman', 'əhalisindən', 'həmişə', 'mehribanlıq', 'görüb', 'ruzi', 'əxz', 'edib', 'vətənimizə', 'geri', 'qayıtmışıq', 'Allah', 'razı', 'olsun', 'bu', 'vilayətin', 'müsəlmanlarından', 'ayda', 'bir', 'dəfə', 'bunlara', 'qonaq', 'oluruq', 'Kəndə', 'yetişib', 'xəbərdar', 'olduq', 'ki', 'buranın', 'camaatı', 'axşamlar', 'kəndin', 'mötəbər', 'ağası', 'və', 'ağsaqqalı', 'Bala', 'Sultanın', 'tövlə', 'otağına', 'cəm', 'olub', 'uzun', 'qış', 'gecələrini', 'orada', 'söhbət', 'ilə', 'yola', 'verirlər', 'Biz', 'üz', 'qoyduq', 'həmin', 'Bala', 'Sultanın', 'tövlə', 'otağına', 'Tövlənin', 'bir', 'tərəfi']\n"
     ]
    }
   ],
   "source": [
    "tokens = word_tokenize(text)\n",
    "# remove all tokens that are not alphabetic\n",
    "words = [word for word in tokens if word.isalpha()]\n",
    "print(words[:100])\n"
   ]
  },
  {
   "cell_type": "markdown",
   "metadata": {},
   "source": [
    "### 2.4 Filter out Stop Words (and Pipeline)\n",
    "\n",
    "Stop words are those words that do not contribute to the deeper meaning of the phrase. For some applications like documentation\n",
    "classification, it may make sense to remove stop words. NLTK provides a list of commonly\n",
    "agreed upon stop words for a variety of languages"
   ]
  },
  {
   "cell_type": "code",
   "execution_count": 18,
   "metadata": {},
   "outputs": [
    {
     "name": "stdout",
     "output_type": "stream",
     "text": [
      "['a', 'ad', 'altı', 'altmış', 'amma', 'arasında', 'artıq', 'ay', 'az', 'bax', 'belə', 'bəli', 'bəlkə', 'beş', 'bəy', 'bəzən', 'bəzi', 'bilər', 'bir', 'biraz', 'biri', 'birşey', 'biz', 'bizim', 'bizlər', 'bu', 'buna', 'bundan', 'bunların', 'bunu', 'bunun', 'buradan', 'bütün', 'ci', 'cı', 'çox', 'cu', 'cü', 'çünki', 'da', 'daha', 'də', 'dedi', 'dək', 'dən', 'dəqiqə', 'deyil', 'dir', 'doqquz', 'doqsan', 'dörd', 'düz', 'ə', 'edən', 'edir', 'əgər', 'əlbəttə', 'elə', 'əlli', 'ən', 'əslində', 'et', 'etdi', 'etmə', 'etmək', 'faiz', 'gilə', 'görə', 'ha', 'haqqında', 'harada', 'hə', 'heç', 'həm', 'həmin', 'həmişə', 'hər', 'ı', 'idi', 'iki', 'il', 'ildə', 'ilə', 'ilk', 'in', 'indi', 'isə', 'istifadə', 'iyirmi', 'ki', 'kim', 'kimə', 'kimi', 'lakin', 'lap', 'məhz', 'mən', 'mənə', 'mirşey', 'nə', 'nəhayət', 'niyə', 'o', 'obirisi', 'of', 'olan', 'olar', 'olaraq', 'oldu', 'olduğu', 'olmadı', 'olmaz', 'olmuşdur', 'olsun', 'olur', 'on', 'ona', 'ondan', 'onlar', 'onlardan', 'onların ', 'onsuzda', 'onu', 'onun', 'oradan', 'otuz', 'öz', 'özü', 'qarşı', 'qədər', 'qırx', 'saat', 'sadəcə', 'saniyə', 'səhv', 'səkkiz', 'səksən', 'sən', 'sənə', 'sənin', 'siz', 'sizin', 'sizlər', 'sonra', 'təəssüf', 'ü', 'üç', 'üçün', 'var', 'və', 'xan', 'xanım', 'xeyr', 'ya', 'yalnız', 'yaxşı', 'yeddi', 'yenə', 'yəni', 'yetmiş', 'yox', 'yoxdur', 'yoxsa', 'yüz', 'zaman']\n"
     ]
    }
   ],
   "source": [
    "from nltk.corpus import stopwords\n",
    "stop_words = stopwords.words('azerbaijani')\n",
    "print(stop_words)"
   ]
  },
  {
   "cell_type": "markdown",
   "metadata": {},
   "source": [
    "You can see that they are all lower case and have punctuation removed. You could compare\n",
    "your tokens to the stop words and filter them out, but you must ensure that your text is prepared\n",
    "the same way. Let’s demonstrate this with a small pipeline of text preparation including:\n"
   ]
  },
  {
   "cell_type": "code",
   "execution_count": 20,
   "metadata": {},
   "outputs": [
    {
     "name": "stdout",
     "output_type": "stream",
     "text": [
      "['qış', 'fəsli', 'hava', 'şiddətli', 'soyuq', 'nəfər', 'seyid', 'əhli', 'araz', 'çayından', 'rusiya', 'torpağına', 'keçib', 'axşam', 'vaxtı', 'özümüzü', 'yetirdik', 'zurnalı', 'kəndinə', 'vətəndə', 'günümüz', 'məşəqqət', 'korluqla', 'keçirdi', 'rus', 'məmləkətinə', 'səfər', 'eləməyimizin', 'səbəbi', 'buranın', 'müsəlman', 'əhalisindən', 'mehribanlıq', 'görüb', 'əhliəyalımıza', 'azçox', 'ruzi', 'əxz', 'edib', 'vətənimizə', 'geri', 'qayıtmışıq', 'allah', 'razı', 'vilayətin', 'müsəlmanlarından', 'ayda', 'dəfə', 'bunlara', 'qonaq', 'oluruq', 'kəndə', 'yetişib', 'xəbərdar', 'olduq', 'buranın', 'camaatı', 'axşamlar', 'kəndin', 'mötəbər', 'ağası', 'ağsaqqalı', 'bala', 'sultanın', 'tövlə', 'otağına', 'cəm', 'olub', 'uzun', 'qış', 'gecələrini', 'orada', 'söhbət', 'yola', 'verirlər', 'üz', 'qoyduq', 'bala', 'sultanın', 'tövlə', 'otağına', 'tövlənin', 'tərəfi', 'mal', 'dolu', 'qaranlıq', 'digər', 'tərəfi', 'uca', 'işıq', 'burada', 'cəmiyyət', 'əyləşib', 'söhbətə', 'məşğul', 'idilər', 'danışanlar', 'bizi', 'görcək', 'səslərini']\n"
     ]
    }
   ],
   "source": [
    "import string\n",
    "import re\n",
    "from nltk.tokenize import word_tokenize\n",
    "from nltk.corpus import stopwords\n",
    "# load data\n",
    "filename = 'kishmish.txt'\n",
    "file = open(filename, 'rt', encoding = 'utf-8')\n",
    "text = file.read()\n",
    "file.close()\n",
    "# split into words\n",
    "tokens = word_tokenize(text)\n",
    "# convert to lower case\n",
    "tokens = [w.lower() for w in tokens]\n",
    "# prepare regex for char filtering\n",
    "re_punc = re.compile('[%s]' % re.escape(string.punctuation))\n",
    "# remove punctuation from each word\n",
    "stripped = [re_punc.sub('', w) for w in tokens]\n",
    "# remove remaining tokens that are not alphabetic\n",
    "words = [word for word in stripped if word.isalpha()]\n",
    "# filter out stop words\n",
    "stop_words = set(stopwords.words('azerbaijani'))\n",
    "words = [w for w in words if not w in stop_words]\n",
    "print(words[:100])\n"
   ]
  },
  {
   "cell_type": "markdown",
   "metadata": {},
   "source": [
    "### 2.5 Stem Words\n",
    "Some applications, like document classification, may\n",
    "benefit from stemming in order to both reduce the vocabulary and to focus on the sense or\n",
    "sentiment of a document rather than deeper meaning. There are many stemming algorithms,\n",
    "although a popular and long-standing method is the Porter Stemming algorithm. This method\n",
    "is available in NLTK via the PorterStemmer class. "
   ]
  },
  {
   "cell_type": "code",
   "execution_count": 21,
   "metadata": {},
   "outputs": [
    {
     "name": "stdout",
     "output_type": "stream",
     "text": [
      "['qış', 'fəsli', 'idi', '.', 'hava', 'şiddətli', 'soyuq', 'idi', '.', 'biz', 'iki', 'nəfər', 'seyid', ',', 'i̇ran', 'əhli', ',', 'araz', 'çayından', 'rusiya', 'torpağına', 'keçib', 'axşam', 'vaxtı', 'özümüzü', 'yetirdik', '“', 'zurnalı', '”', 'kəndinə', '.', 'vətəndə', 'günümüz', 'məşəqqət', 'və', 'korluqla', 'keçirdi', '.', 'ru', 'məmləkətinə', 'səfər', 'eləməyimizin', 'səbəbi', 'bu', 'idi', 'ki', ',', 'buranın', 'müsəlman', 'əhalisindən', 'həmişə', 'mehribanlıq', 'görüb', 'əhli-əyalımıza', 'az-çox', 'ruzi', 'əxz', 'edib', ',', 'vətənimizə', 'geri', 'qayıtmışıq', '.', 'allah', 'razı', 'olsun', 'bu', 'vilayətin', 'müsəlmanlarından', ';', 'ayda', 'bir', 'dəfə', 'bunlara', 'qonaq', 'oluruq', '.', 'kəndə', 'yetişib', 'xəbərdar', 'olduq', 'ki', ',', 'buranın', 'camaatı', 'axşamlar', 'kəndin', 'mötəbər', 'ağası', 'və', 'ağsaqqalı', 'bala', 'sultanın', 'tövlə', 'otağına', 'cəm', 'olub', 'uzun', 'qış', 'gecələrini']\n"
     ]
    }
   ],
   "source": [
    "from nltk.tokenize import word_tokenize\n",
    "from nltk.stem.porter import PorterStemmer\n",
    "\n",
    "tokens = word_tokenize(text)\n",
    "# stemming of words\n",
    "porter = PorterStemmer()\n",
    "stemmed = [porter.stem(word) for word in tokens]\n",
    "print(stemmed[:100])\n"
   ]
  },
  {
   "cell_type": "markdown",
   "metadata": {},
   "source": [
    "<hr>\n",
    "\n",
    "Copyright &copy; 2020 Nijat Zeynalov. The basic idea of this notebook inspired by Jason Brownlee. The notebook are released under the terms of the [MIT License](https://bigdatauniversity.com/mit-license/)."
   ]
  }
 ],
 "metadata": {
  "kernelspec": {
   "display_name": "Python 3",
   "language": "python",
   "name": "python3"
  },
  "language_info": {
   "codemirror_mode": {
    "name": "ipython",
    "version": 3
   },
   "file_extension": ".py",
   "mimetype": "text/x-python",
   "name": "python",
   "nbconvert_exporter": "python",
   "pygments_lexer": "ipython3",
   "version": "3.7.4"
  }
 },
 "nbformat": 4,
 "nbformat_minor": 2
}
